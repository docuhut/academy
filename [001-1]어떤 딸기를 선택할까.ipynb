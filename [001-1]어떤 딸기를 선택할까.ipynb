{
 "cells": [
  {
   "cell_type": "markdown",
   "metadata": {},
   "source": [
    "## R 사용준비"
   ]
  },
  {
   "cell_type": "markdown",
   "metadata": {},
   "source": [
    "### R 설치"
   ]
  },
  {
   "cell_type": "markdown",
   "metadata": {},
   "source": [
    "R 설치 및 기본적인 사용법에 대한 내용은 이 글에서 다루지 않습니다. 아래의 사이트를 참고하시기 바랍니다.\n",
    "\n",
    "<a href=\"https://cloud.r-project.org/\">다운로드 및 설치</a>\n",
    "\n",
    "<a href=\"https://rstudio.com/products/rstudio/download/\">R Studio 다운로드 및 설치</a>"
   ]
  },
  {
   "cell_type": "markdown",
   "metadata": {},
   "source": [
    "###  패키지 설치"
   ]
  },
  {
   "cell_type": "markdown",
   "metadata": {},
   "source": [
    "#### devtools : 본 프로젝트에서는 github에서 데이터 가져오는데 사용하는 패키지"
   ]
  },
  {
   "cell_type": "code",
   "execution_count": null,
   "metadata": {},
   "outputs": [],
   "source": [
    "install.packages(\"devtools\")"
   ]
  },
  {
   "cell_type": "markdown",
   "metadata": {},
   "source": [
    "#### ggplots2 : 데이터 시각화에 사용하는 패키지"
   ]
  },
  {
   "cell_type": "code",
   "execution_count": null,
   "metadata": {},
   "outputs": [],
   "source": [
    "install.packages(\"ggplot2\")"
   ]
  },
  {
   "cell_type": "markdown",
   "metadata": {},
   "source": [
    "#### 패키지 사용 준비"
   ]
  },
  {
   "cell_type": "code",
   "execution_count": null,
   "metadata": {},
   "outputs": [],
   "source": [
    "library(devtools)\n",
    "library(ggplot2)"
   ]
  },
  {
   "cell_type": "markdown",
   "metadata": {},
   "source": [
    "## 1.  데이터\n",
    "### 데이터 선택"
   ]
  },
  {
   "cell_type": "code",
   "execution_count": null,
   "metadata": {},
   "outputs": [],
   "source": [
    "devtools::install_github(\"docuhut/datalink\", force=TRUE)\n",
    "library(strawberry)"
   ]
  },
  {
   "cell_type": "code",
   "execution_count": 5,
   "metadata": {},
   "outputs": [],
   "source": [
    "data(StrawBerry)"
   ]
  },
  {
   "cell_type": "markdown",
   "metadata": {},
   "source": [
    "#### 상위 6개 데이터 출력해보기 "
   ]
  },
  {
   "cell_type": "code",
   "execution_count": 6,
   "metadata": {
    "scrolled": true
   },
   "outputs": [
    {
     "data": {
      "text/html": [
       "<table>\n",
       "<caption>A data.frame: 6 × 5</caption>\n",
       "<thead>\n",
       "\t<tr><th scope=col>type</th><th scope=col>date</th><th scope=col>period</th><th scope=col>weight</th><th scope=col>brix</th></tr>\n",
       "\t<tr><th scope=col>&lt;fct&gt;</th><th scope=col>&lt;fct&gt;</th><th scope=col>&lt;int&gt;</th><th scope=col>&lt;dbl&gt;</th><th scope=col>&lt;dbl&gt;</th></tr>\n",
       "</thead>\n",
       "<tbody>\n",
       "\t<tr><td>설</td><td>12월 25일</td><td>46</td><td>23.2</td><td>12.1</td></tr>\n",
       "\t<tr><td>설</td><td>12월 25일</td><td>46</td><td>22.8</td><td>12.7</td></tr>\n",
       "\t<tr><td>설</td><td>12월 25일</td><td>47</td><td>23.5</td><td>12.4</td></tr>\n",
       "\t<tr><td>설</td><td>12월 25일</td><td>45</td><td>22.6</td><td>11.9</td></tr>\n",
       "\t<tr><td>설</td><td>12월 25일</td><td>49</td><td>24.5</td><td>13.2</td></tr>\n",
       "\t<tr><td>설</td><td>12월 25일</td><td>44</td><td>21.8</td><td>11.7</td></tr>\n",
       "</tbody>\n",
       "</table>\n"
      ],
      "text/latex": [
       "A data.frame: 6 × 5\n",
       "\\begin{tabular}{r|lllll}\n",
       " type & date & period & weight & brix\\\\\n",
       " <fct> & <fct> & <int> & <dbl> & <dbl>\\\\\n",
       "\\hline\n",
       "\t 설 & 12월 25일 & 46 & 23.2 & 12.1\\\\\n",
       "\t 설 & 12월 25일 & 46 & 22.8 & 12.7\\\\\n",
       "\t 설 & 12월 25일 & 47 & 23.5 & 12.4\\\\\n",
       "\t 설 & 12월 25일 & 45 & 22.6 & 11.9\\\\\n",
       "\t 설 & 12월 25일 & 49 & 24.5 & 13.2\\\\\n",
       "\t 설 & 12월 25일 & 44 & 21.8 & 11.7\\\\\n",
       "\\end{tabular}\n"
      ],
      "text/markdown": [
       "\n",
       "A data.frame: 6 × 5\n",
       "\n",
       "| type &lt;fct&gt; | date &lt;fct&gt; | period &lt;int&gt; | weight &lt;dbl&gt; | brix &lt;dbl&gt; |\n",
       "|---|---|---|---|---|\n",
       "| 설 | 12월 25일 | 46 | 23.2 | 12.1 |\n",
       "| 설 | 12월 25일 | 46 | 22.8 | 12.7 |\n",
       "| 설 | 12월 25일 | 47 | 23.5 | 12.4 |\n",
       "| 설 | 12월 25일 | 45 | 22.6 | 11.9 |\n",
       "| 설 | 12월 25일 | 49 | 24.5 | 13.2 |\n",
       "| 설 | 12월 25일 | 44 | 21.8 | 11.7 |\n",
       "\n"
      ],
      "text/plain": [
       "  type date      period weight brix\n",
       "1 설   12월 25일 46     23.2   12.1\n",
       "2 설   12월 25일 46     22.8   12.7\n",
       "3 설   12월 25일 47     23.5   12.4\n",
       "4 설   12월 25일 45     22.6   11.9\n",
       "5 설   12월 25일 49     24.5   13.2\n",
       "6 설   12월 25일 44     21.8   11.7"
      ]
     },
     "metadata": {},
     "output_type": "display_data"
    }
   ],
   "source": [
    "head(StrawBerry)"
   ]
  },
  {
   "cell_type": "markdown",
   "metadata": {},
   "source": [
    "#### 전체 데이터 요약 : 갯수, 계열, 최소값, 1사분위, 중간값, 평균, 3사분위, 최대값"
   ]
  },
  {
   "cell_type": "code",
   "execution_count": 7,
   "metadata": {},
   "outputs": [
    {
     "data": {
      "text/plain": [
       "   type            date         period          weight           brix      \n",
       " 설  :500   12월 25일:200   Min.   :35.00   Min.   :13.90   Min.   : 6.90  \n",
       " 아키:500   1월 25일 :200   1st Qu.:39.00   1st Qu.:16.00   1st Qu.: 9.90  \n",
       "            2월 25일 :200   Median :41.00   Median :17.95   Median :10.70  \n",
       "            3월 25일 :200   Mean   :41.02   Mean   :18.50   Mean   :10.66  \n",
       "            4월 25일 :200   3rd Qu.:43.00   3rd Qu.:20.90   3rd Qu.:11.60  \n",
       "                            Max.   :49.00   Max.   :25.00   Max.   :13.70  "
      ]
     },
     "metadata": {},
     "output_type": "display_data"
    }
   ],
   "source": [
    "summary(StrawBerry)"
   ]
  },
  {
   "cell_type": "markdown",
   "metadata": {},
   "source": [
    "###   데이터 분리"
   ]
  },
  {
   "cell_type": "code",
   "execution_count": 8,
   "metadata": {},
   "outputs": [],
   "source": [
    "data <- split(StrawBerry, StrawBerry$type)\n",
    "data_s <- data$설\n",
    "data_a <- data$아키"
   ]
  },
  {
   "cell_type": "code",
   "execution_count": 9,
   "metadata": {},
   "outputs": [],
   "source": [
    "seol <- split(data_s, data_s$date)\n",
    "seol_winter1 <- seol$'12월 25일'\n",
    "seol_winter2 <- seol$'1월 25일'\n",
    "seol_winter3 <- seol$'2월 25일'\n",
    "seol_spring1 <- seol$'3월 25일'\n",
    "seol_spring2 <- seol$'4월 25일'\n",
    "achi <- split(data_a, data_a$date)\n",
    "achi_winter1 <- achi$'12월 25일'\n",
    "achi_winter2 <- achi$'1월 25일'\n",
    "achi_winter3 <- achi$'2월 25일'\n",
    "achi_spring1 <- achi$'3월 25일'\n",
    "achi_spring2 <- achi$'4월 25일'"
   ]
  },
  {
   "cell_type": "markdown",
   "metadata": {},
   "source": [
    "## 2. 데이터 정리\n",
    "### 사분위표"
   ]
  },
  {
   "cell_type": "markdown",
   "metadata": {},
   "source": [
    "#### 데이터 갯수 구하기"
   ]
  },
  {
   "cell_type": "code",
   "execution_count": 10,
   "metadata": {},
   "outputs": [
    {
     "data": {
      "text/html": [
       "100"
      ],
      "text/latex": [
       "100"
      ],
      "text/markdown": [
       "100"
      ],
      "text/plain": [
       "[1] 100"
      ]
     },
     "metadata": {},
     "output_type": "display_data"
    },
    {
     "data": {
      "text/html": [
       "100"
      ],
      "text/latex": [
       "100"
      ],
      "text/markdown": [
       "100"
      ],
      "text/plain": [
       "[1] 100"
      ]
     },
     "metadata": {},
     "output_type": "display_data"
    },
    {
     "data": {
      "text/html": [
       "100"
      ],
      "text/latex": [
       "100"
      ],
      "text/markdown": [
       "100"
      ],
      "text/plain": [
       "[1] 100"
      ]
     },
     "metadata": {},
     "output_type": "display_data"
    },
    {
     "data": {
      "text/html": [
       "100"
      ],
      "text/latex": [
       "100"
      ],
      "text/markdown": [
       "100"
      ],
      "text/plain": [
       "[1] 100"
      ]
     },
     "metadata": {},
     "output_type": "display_data"
    },
    {
     "data": {
      "text/html": [
       "100"
      ],
      "text/latex": [
       "100"
      ],
      "text/markdown": [
       "100"
      ],
      "text/plain": [
       "[1] 100"
      ]
     },
     "metadata": {},
     "output_type": "display_data"
    },
    {
     "data": {
      "text/html": [
       "100"
      ],
      "text/latex": [
       "100"
      ],
      "text/markdown": [
       "100"
      ],
      "text/plain": [
       "[1] 100"
      ]
     },
     "metadata": {},
     "output_type": "display_data"
    },
    {
     "data": {
      "text/html": [
       "100"
      ],
      "text/latex": [
       "100"
      ],
      "text/markdown": [
       "100"
      ],
      "text/plain": [
       "[1] 100"
      ]
     },
     "metadata": {},
     "output_type": "display_data"
    },
    {
     "data": {
      "text/html": [
       "100"
      ],
      "text/latex": [
       "100"
      ],
      "text/markdown": [
       "100"
      ],
      "text/plain": [
       "[1] 100"
      ]
     },
     "metadata": {},
     "output_type": "display_data"
    },
    {
     "data": {
      "text/html": [
       "100"
      ],
      "text/latex": [
       "100"
      ],
      "text/markdown": [
       "100"
      ],
      "text/plain": [
       "[1] 100"
      ]
     },
     "metadata": {},
     "output_type": "display_data"
    },
    {
     "data": {
      "text/html": [
       "100"
      ],
      "text/latex": [
       "100"
      ],
      "text/markdown": [
       "100"
      ],
      "text/plain": [
       "[1] 100"
      ]
     },
     "metadata": {},
     "output_type": "display_data"
    }
   ],
   "source": [
    "nrow(seol_winter1)\n",
    "nrow(seol_winter2)\n",
    "nrow(seol_winter3)\n",
    "nrow(seol_spring1)\n",
    "nrow(seol_spring2)\n",
    "nrow(achi_winter1)\n",
    "nrow(achi_winter2)\n",
    "nrow(achi_winter3)\n",
    "nrow(achi_spring1)\n",
    "nrow(achi_spring2)"
   ]
  },
  {
   "cell_type": "markdown",
   "metadata": {},
   "source": [
    "#### 최소값 구하기"
   ]
  },
  {
   "cell_type": "code",
   "execution_count": 11,
   "metadata": {},
   "outputs": [
    {
     "data": {
      "text/html": [
       "11.5"
      ],
      "text/latex": [
       "11.5"
      ],
      "text/markdown": [
       "11.5"
      ],
      "text/plain": [
       "[1] 11.5"
      ]
     },
     "metadata": {},
     "output_type": "display_data"
    },
    {
     "data": {
      "text/html": [
       "10.7"
      ],
      "text/latex": [
       "10.7"
      ],
      "text/markdown": [
       "10.7"
      ],
      "text/plain": [
       "[1] 10.7"
      ]
     },
     "metadata": {},
     "output_type": "display_data"
    },
    {
     "data": {
      "text/html": [
       "10.2"
      ],
      "text/latex": [
       "10.2"
      ],
      "text/markdown": [
       "10.2"
      ],
      "text/plain": [
       "[1] 10.2"
      ]
     },
     "metadata": {},
     "output_type": "display_data"
    },
    {
     "data": {
      "text/html": [
       "9.7"
      ],
      "text/latex": [
       "9.7"
      ],
      "text/markdown": [
       "9.7"
      ],
      "text/plain": [
       "[1] 9.7"
      ]
     },
     "metadata": {},
     "output_type": "display_data"
    },
    {
     "data": {
      "text/html": [
       "9.4"
      ],
      "text/latex": [
       "9.4"
      ],
      "text/markdown": [
       "9.4"
      ],
      "text/plain": [
       "[1] 9.4"
      ]
     },
     "metadata": {},
     "output_type": "display_data"
    },
    {
     "data": {
      "text/html": [
       "6.9"
      ],
      "text/latex": [
       "6.9"
      ],
      "text/markdown": [
       "6.9"
      ],
      "text/plain": [
       "[1] 6.9"
      ]
     },
     "metadata": {},
     "output_type": "display_data"
    },
    {
     "data": {
      "text/html": [
       "7.5"
      ],
      "text/latex": [
       "7.5"
      ],
      "text/markdown": [
       "7.5"
      ],
      "text/plain": [
       "[1] 7.5"
      ]
     },
     "metadata": {},
     "output_type": "display_data"
    },
    {
     "data": {
      "text/html": [
       "7.2"
      ],
      "text/latex": [
       "7.2"
      ],
      "text/markdown": [
       "7.2"
      ],
      "text/plain": [
       "[1] 7.2"
      ]
     },
     "metadata": {},
     "output_type": "display_data"
    },
    {
     "data": {
      "text/html": [
       "7"
      ],
      "text/latex": [
       "7"
      ],
      "text/markdown": [
       "7"
      ],
      "text/plain": [
       "[1] 7"
      ]
     },
     "metadata": {},
     "output_type": "display_data"
    },
    {
     "data": {
      "text/html": [
       "8.3"
      ],
      "text/latex": [
       "8.3"
      ],
      "text/markdown": [
       "8.3"
      ],
      "text/plain": [
       "[1] 8.3"
      ]
     },
     "metadata": {},
     "output_type": "display_data"
    }
   ],
   "source": [
    "min(seol_winter1$brix)\n",
    "min(seol_winter2$brix)\n",
    "min(seol_winter3$brix)\n",
    "min(seol_spring1$brix)\n",
    "min(seol_spring2$brix)\n",
    "min(achi_winter1$brix)\n",
    "min(achi_winter2$brix)\n",
    "min(achi_winter3$brix)\n",
    "min(achi_spring1$brix)\n",
    "min(achi_spring2$brix)"
   ]
  },
  {
   "cell_type": "markdown",
   "metadata": {},
   "source": [
    "#### 사분위표 구하기"
   ]
  },
  {
   "cell_type": "code",
   "execution_count": 12,
   "metadata": {},
   "outputs": [
    {
     "data": {
      "text/html": [
       "<dl class=dl-horizontal>\n",
       "\t<dt>0%</dt>\n",
       "\t\t<dd>11.5</dd>\n",
       "\t<dt>25%</dt>\n",
       "\t\t<dd>12.1</dd>\n",
       "\t<dt>50%</dt>\n",
       "\t\t<dd>12.4</dd>\n",
       "\t<dt>75%</dt>\n",
       "\t\t<dd>12.6</dd>\n",
       "\t<dt>100%</dt>\n",
       "\t\t<dd>13.7</dd>\n",
       "</dl>\n"
      ],
      "text/latex": [
       "\\begin{description*}\n",
       "\\item[0\\textbackslash{}\\%] 11.5\n",
       "\\item[25\\textbackslash{}\\%] 12.1\n",
       "\\item[50\\textbackslash{}\\%] 12.4\n",
       "\\item[75\\textbackslash{}\\%] 12.6\n",
       "\\item[100\\textbackslash{}\\%] 13.7\n",
       "\\end{description*}\n"
      ],
      "text/markdown": [
       "0%\n",
       ":   11.525%\n",
       ":   12.150%\n",
       ":   12.475%\n",
       ":   12.6100%\n",
       ":   13.7\n",
       "\n"
      ],
      "text/plain": [
       "  0%  25%  50%  75% 100% \n",
       "11.5 12.1 12.4 12.6 13.7 "
      ]
     },
     "metadata": {},
     "output_type": "display_data"
    },
    {
     "data": {
      "text/html": [
       "<dl class=dl-horizontal>\n",
       "\t<dt>0%</dt>\n",
       "\t\t<dd>10.7</dd>\n",
       "\t<dt>25%</dt>\n",
       "\t\t<dd>11.6</dd>\n",
       "\t<dt>50%</dt>\n",
       "\t\t<dd>11.9</dd>\n",
       "\t<dt>75%</dt>\n",
       "\t\t<dd>12.2</dd>\n",
       "\t<dt>100%</dt>\n",
       "\t\t<dd>12.8</dd>\n",
       "</dl>\n"
      ],
      "text/latex": [
       "\\begin{description*}\n",
       "\\item[0\\textbackslash{}\\%] 10.7\n",
       "\\item[25\\textbackslash{}\\%] 11.6\n",
       "\\item[50\\textbackslash{}\\%] 11.9\n",
       "\\item[75\\textbackslash{}\\%] 12.2\n",
       "\\item[100\\textbackslash{}\\%] 12.8\n",
       "\\end{description*}\n"
      ],
      "text/markdown": [
       "0%\n",
       ":   10.725%\n",
       ":   11.650%\n",
       ":   11.975%\n",
       ":   12.2100%\n",
       ":   12.8\n",
       "\n"
      ],
      "text/plain": [
       "  0%  25%  50%  75% 100% \n",
       "10.7 11.6 11.9 12.2 12.8 "
      ]
     },
     "metadata": {},
     "output_type": "display_data"
    },
    {
     "data": {
      "text/html": [
       "<dl class=dl-horizontal>\n",
       "\t<dt>0%</dt>\n",
       "\t\t<dd>10.2</dd>\n",
       "\t<dt>25%</dt>\n",
       "\t\t<dd>11.1</dd>\n",
       "\t<dt>50%</dt>\n",
       "\t\t<dd>11.3</dd>\n",
       "\t<dt>75%</dt>\n",
       "\t\t<dd>11.6</dd>\n",
       "\t<dt>100%</dt>\n",
       "\t\t<dd>12.7</dd>\n",
       "</dl>\n"
      ],
      "text/latex": [
       "\\begin{description*}\n",
       "\\item[0\\textbackslash{}\\%] 10.2\n",
       "\\item[25\\textbackslash{}\\%] 11.1\n",
       "\\item[50\\textbackslash{}\\%] 11.3\n",
       "\\item[75\\textbackslash{}\\%] 11.6\n",
       "\\item[100\\textbackslash{}\\%] 12.7\n",
       "\\end{description*}\n"
      ],
      "text/markdown": [
       "0%\n",
       ":   10.225%\n",
       ":   11.150%\n",
       ":   11.375%\n",
       ":   11.6100%\n",
       ":   12.7\n",
       "\n"
      ],
      "text/plain": [
       "  0%  25%  50%  75% 100% \n",
       "10.2 11.1 11.3 11.6 12.7 "
      ]
     },
     "metadata": {},
     "output_type": "display_data"
    },
    {
     "data": {
      "text/html": [
       "<dl class=dl-horizontal>\n",
       "\t<dt>0%</dt>\n",
       "\t\t<dd>9.7</dd>\n",
       "\t<dt>25%</dt>\n",
       "\t\t<dd>10.475</dd>\n",
       "\t<dt>50%</dt>\n",
       "\t\t<dd>10.8</dd>\n",
       "\t<dt>75%</dt>\n",
       "\t\t<dd>11.1</dd>\n",
       "\t<dt>100%</dt>\n",
       "\t\t<dd>11.8</dd>\n",
       "</dl>\n"
      ],
      "text/latex": [
       "\\begin{description*}\n",
       "\\item[0\\textbackslash{}\\%] 9.7\n",
       "\\item[25\\textbackslash{}\\%] 10.475\n",
       "\\item[50\\textbackslash{}\\%] 10.8\n",
       "\\item[75\\textbackslash{}\\%] 11.1\n",
       "\\item[100\\textbackslash{}\\%] 11.8\n",
       "\\end{description*}\n"
      ],
      "text/markdown": [
       "0%\n",
       ":   9.725%\n",
       ":   10.47550%\n",
       ":   10.875%\n",
       ":   11.1100%\n",
       ":   11.8\n",
       "\n"
      ],
      "text/plain": [
       "    0%    25%    50%    75%   100% \n",
       " 9.700 10.475 10.800 11.100 11.800 "
      ]
     },
     "metadata": {},
     "output_type": "display_data"
    },
    {
     "data": {
      "text/html": [
       "<dl class=dl-horizontal>\n",
       "\t<dt>0%</dt>\n",
       "\t\t<dd>9.4</dd>\n",
       "\t<dt>25%</dt>\n",
       "\t\t<dd>10</dd>\n",
       "\t<dt>50%</dt>\n",
       "\t\t<dd>10.35</dd>\n",
       "\t<dt>75%</dt>\n",
       "\t\t<dd>10.7</dd>\n",
       "\t<dt>100%</dt>\n",
       "\t\t<dd>11.2</dd>\n",
       "</dl>\n"
      ],
      "text/latex": [
       "\\begin{description*}\n",
       "\\item[0\\textbackslash{}\\%] 9.4\n",
       "\\item[25\\textbackslash{}\\%] 10\n",
       "\\item[50\\textbackslash{}\\%] 10.35\n",
       "\\item[75\\textbackslash{}\\%] 10.7\n",
       "\\item[100\\textbackslash{}\\%] 11.2\n",
       "\\end{description*}\n"
      ],
      "text/markdown": [
       "0%\n",
       ":   9.425%\n",
       ":   1050%\n",
       ":   10.3575%\n",
       ":   10.7100%\n",
       ":   11.2\n",
       "\n"
      ],
      "text/plain": [
       "   0%   25%   50%   75%  100% \n",
       " 9.40 10.00 10.35 10.70 11.20 "
      ]
     },
     "metadata": {},
     "output_type": "display_data"
    },
    {
     "data": {
      "text/html": [
       "<dl class=dl-horizontal>\n",
       "\t<dt>0%</dt>\n",
       "\t\t<dd>6.9</dd>\n",
       "\t<dt>25%</dt>\n",
       "\t\t<dd>8.8</dd>\n",
       "\t<dt>50%</dt>\n",
       "\t\t<dd>9.5</dd>\n",
       "\t<dt>75%</dt>\n",
       "\t\t<dd>10.025</dd>\n",
       "\t<dt>100%</dt>\n",
       "\t\t<dd>11.5</dd>\n",
       "</dl>\n"
      ],
      "text/latex": [
       "\\begin{description*}\n",
       "\\item[0\\textbackslash{}\\%] 6.9\n",
       "\\item[25\\textbackslash{}\\%] 8.8\n",
       "\\item[50\\textbackslash{}\\%] 9.5\n",
       "\\item[75\\textbackslash{}\\%] 10.025\n",
       "\\item[100\\textbackslash{}\\%] 11.5\n",
       "\\end{description*}\n"
      ],
      "text/markdown": [
       "0%\n",
       ":   6.925%\n",
       ":   8.850%\n",
       ":   9.575%\n",
       ":   10.025100%\n",
       ":   11.5\n",
       "\n"
      ],
      "text/plain": [
       "    0%    25%    50%    75%   100% \n",
       " 6.900  8.800  9.500 10.025 11.500 "
      ]
     },
     "metadata": {},
     "output_type": "display_data"
    },
    {
     "data": {
      "text/html": [
       "<dl class=dl-horizontal>\n",
       "\t<dt>0%</dt>\n",
       "\t\t<dd>7.5</dd>\n",
       "\t<dt>25%</dt>\n",
       "\t\t<dd>9.075</dd>\n",
       "\t<dt>50%</dt>\n",
       "\t\t<dd>9.7</dd>\n",
       "\t<dt>75%</dt>\n",
       "\t\t<dd>10.525</dd>\n",
       "\t<dt>100%</dt>\n",
       "\t\t<dd>12.6</dd>\n",
       "</dl>\n"
      ],
      "text/latex": [
       "\\begin{description*}\n",
       "\\item[0\\textbackslash{}\\%] 7.5\n",
       "\\item[25\\textbackslash{}\\%] 9.075\n",
       "\\item[50\\textbackslash{}\\%] 9.7\n",
       "\\item[75\\textbackslash{}\\%] 10.525\n",
       "\\item[100\\textbackslash{}\\%] 12.6\n",
       "\\end{description*}\n"
      ],
      "text/markdown": [
       "0%\n",
       ":   7.525%\n",
       ":   9.07550%\n",
       ":   9.775%\n",
       ":   10.525100%\n",
       ":   12.6\n",
       "\n"
      ],
      "text/plain": [
       "    0%    25%    50%    75%   100% \n",
       " 7.500  9.075  9.700 10.525 12.600 "
      ]
     },
     "metadata": {},
     "output_type": "display_data"
    },
    {
     "data": {
      "text/html": [
       "<dl class=dl-horizontal>\n",
       "\t<dt>0%</dt>\n",
       "\t\t<dd>7.2</dd>\n",
       "\t<dt>25%</dt>\n",
       "\t\t<dd>9.4</dd>\n",
       "\t<dt>50%</dt>\n",
       "\t\t<dd>9.95</dd>\n",
       "\t<dt>75%</dt>\n",
       "\t\t<dd>10.825</dd>\n",
       "\t<dt>100%</dt>\n",
       "\t\t<dd>12</dd>\n",
       "</dl>\n"
      ],
      "text/latex": [
       "\\begin{description*}\n",
       "\\item[0\\textbackslash{}\\%] 7.2\n",
       "\\item[25\\textbackslash{}\\%] 9.4\n",
       "\\item[50\\textbackslash{}\\%] 9.95\n",
       "\\item[75\\textbackslash{}\\%] 10.825\n",
       "\\item[100\\textbackslash{}\\%] 12\n",
       "\\end{description*}\n"
      ],
      "text/markdown": [
       "0%\n",
       ":   7.225%\n",
       ":   9.450%\n",
       ":   9.9575%\n",
       ":   10.825100%\n",
       ":   12\n",
       "\n"
      ],
      "text/plain": [
       "    0%    25%    50%    75%   100% \n",
       " 7.200  9.400  9.950 10.825 12.000 "
      ]
     },
     "metadata": {},
     "output_type": "display_data"
    },
    {
     "data": {
      "text/html": [
       "<dl class=dl-horizontal>\n",
       "\t<dt>0%</dt>\n",
       "\t\t<dd>7</dd>\n",
       "\t<dt>25%</dt>\n",
       "\t\t<dd>9.675</dd>\n",
       "\t<dt>50%</dt>\n",
       "\t\t<dd>10.1</dd>\n",
       "\t<dt>75%</dt>\n",
       "\t\t<dd>10.825</dd>\n",
       "\t<dt>100%</dt>\n",
       "\t\t<dd>13.4</dd>\n",
       "</dl>\n"
      ],
      "text/latex": [
       "\\begin{description*}\n",
       "\\item[0\\textbackslash{}\\%] 7\n",
       "\\item[25\\textbackslash{}\\%] 9.675\n",
       "\\item[50\\textbackslash{}\\%] 10.1\n",
       "\\item[75\\textbackslash{}\\%] 10.825\n",
       "\\item[100\\textbackslash{}\\%] 13.4\n",
       "\\end{description*}\n"
      ],
      "text/markdown": [
       "0%\n",
       ":   725%\n",
       ":   9.67550%\n",
       ":   10.175%\n",
       ":   10.825100%\n",
       ":   13.4\n",
       "\n"
      ],
      "text/plain": [
       "    0%    25%    50%    75%   100% \n",
       " 7.000  9.675 10.100 10.825 13.400 "
      ]
     },
     "metadata": {},
     "output_type": "display_data"
    },
    {
     "data": {
      "text/html": [
       "<dl class=dl-horizontal>\n",
       "\t<dt>0%</dt>\n",
       "\t\t<dd>8.3</dd>\n",
       "\t<dt>25%</dt>\n",
       "\t\t<dd>9.6</dd>\n",
       "\t<dt>50%</dt>\n",
       "\t\t<dd>10.35</dd>\n",
       "\t<dt>75%</dt>\n",
       "\t\t<dd>10.925</dd>\n",
       "\t<dt>100%</dt>\n",
       "\t\t<dd>12.8</dd>\n",
       "</dl>\n"
      ],
      "text/latex": [
       "\\begin{description*}\n",
       "\\item[0\\textbackslash{}\\%] 8.3\n",
       "\\item[25\\textbackslash{}\\%] 9.6\n",
       "\\item[50\\textbackslash{}\\%] 10.35\n",
       "\\item[75\\textbackslash{}\\%] 10.925\n",
       "\\item[100\\textbackslash{}\\%] 12.8\n",
       "\\end{description*}\n"
      ],
      "text/markdown": [
       "0%\n",
       ":   8.325%\n",
       ":   9.650%\n",
       ":   10.3575%\n",
       ":   10.925100%\n",
       ":   12.8\n",
       "\n"
      ],
      "text/plain": [
       "    0%    25%    50%    75%   100% \n",
       " 8.300  9.600 10.350 10.925 12.800 "
      ]
     },
     "metadata": {},
     "output_type": "display_data"
    }
   ],
   "source": [
    "quantile(seol_winter1$brix)\n",
    "quantile(seol_winter2$brix)\n",
    "quantile(seol_winter3$brix)\n",
    "quantile(seol_spring1$brix)\n",
    "quantile(seol_spring2$brix)\n",
    "quantile(achi_winter1$brix)\n",
    "quantile(achi_winter2$brix)\n",
    "quantile(achi_winter3$brix)\n",
    "quantile(achi_spring1$brix)\n",
    "quantile(achi_spring2$brix)"
   ]
  },
  {
   "cell_type": "markdown",
   "metadata": {},
   "source": [
    "#### 최대값 구하기"
   ]
  },
  {
   "cell_type": "code",
   "execution_count": 13,
   "metadata": {
    "scrolled": true
   },
   "outputs": [
    {
     "data": {
      "text/html": [
       "13.7"
      ],
      "text/latex": [
       "13.7"
      ],
      "text/markdown": [
       "13.7"
      ],
      "text/plain": [
       "[1] 13.7"
      ]
     },
     "metadata": {},
     "output_type": "display_data"
    },
    {
     "data": {
      "text/html": [
       "12.8"
      ],
      "text/latex": [
       "12.8"
      ],
      "text/markdown": [
       "12.8"
      ],
      "text/plain": [
       "[1] 12.8"
      ]
     },
     "metadata": {},
     "output_type": "display_data"
    },
    {
     "data": {
      "text/html": [
       "12.7"
      ],
      "text/latex": [
       "12.7"
      ],
      "text/markdown": [
       "12.7"
      ],
      "text/plain": [
       "[1] 12.7"
      ]
     },
     "metadata": {},
     "output_type": "display_data"
    },
    {
     "data": {
      "text/html": [
       "11.8"
      ],
      "text/latex": [
       "11.8"
      ],
      "text/markdown": [
       "11.8"
      ],
      "text/plain": [
       "[1] 11.8"
      ]
     },
     "metadata": {},
     "output_type": "display_data"
    },
    {
     "data": {
      "text/html": [
       "11.2"
      ],
      "text/latex": [
       "11.2"
      ],
      "text/markdown": [
       "11.2"
      ],
      "text/plain": [
       "[1] 11.2"
      ]
     },
     "metadata": {},
     "output_type": "display_data"
    },
    {
     "data": {
      "text/html": [
       "11.5"
      ],
      "text/latex": [
       "11.5"
      ],
      "text/markdown": [
       "11.5"
      ],
      "text/plain": [
       "[1] 11.5"
      ]
     },
     "metadata": {},
     "output_type": "display_data"
    },
    {
     "data": {
      "text/html": [
       "12.6"
      ],
      "text/latex": [
       "12.6"
      ],
      "text/markdown": [
       "12.6"
      ],
      "text/plain": [
       "[1] 12.6"
      ]
     },
     "metadata": {},
     "output_type": "display_data"
    },
    {
     "data": {
      "text/html": [
       "12"
      ],
      "text/latex": [
       "12"
      ],
      "text/markdown": [
       "12"
      ],
      "text/plain": [
       "[1] 12"
      ]
     },
     "metadata": {},
     "output_type": "display_data"
    },
    {
     "data": {
      "text/html": [
       "13.4"
      ],
      "text/latex": [
       "13.4"
      ],
      "text/markdown": [
       "13.4"
      ],
      "text/plain": [
       "[1] 13.4"
      ]
     },
     "metadata": {},
     "output_type": "display_data"
    },
    {
     "data": {
      "text/html": [
       "12.8"
      ],
      "text/latex": [
       "12.8"
      ],
      "text/markdown": [
       "12.8"
      ],
      "text/plain": [
       "[1] 12.8"
      ]
     },
     "metadata": {},
     "output_type": "display_data"
    }
   ],
   "source": [
    "max(seol_winter1$brix)\n",
    "max(seol_winter2$brix)\n",
    "max(seol_winter3$brix)\n",
    "max(seol_spring1$brix)\n",
    "max(seol_spring2$brix)\n",
    "max(achi_winter1$brix)\n",
    "max(achi_winter2$brix)\n",
    "max(achi_winter3$brix)\n",
    "max(achi_spring1$brix)\n",
    "max(achi_spring2$brix)"
   ]
  },
  {
   "cell_type": "markdown",
   "metadata": {},
   "source": [
    "### 도수분포표"
   ]
  },
  {
   "cell_type": "code",
   "execution_count": 14,
   "metadata": {},
   "outputs": [
    {
     "data": {
      "text/plain": [
       "cut_s_1\n",
       " (11.5,11.72] (11.72,11.94] (11.94,12.16] (12.16,12.38]  (12.38,12.6] \n",
       "            7             9            11            19            30 \n",
       " (12.6,12.82] (12.82,13.04] (13.04,13.26] (13.26,13.48]  (13.48,13.7] \n",
       "           13             7             2             1             1 "
      ]
     },
     "metadata": {},
     "output_type": "display_data"
    },
    {
     "data": {
      "text/plain": [
       "cut_s_2\n",
       " (10.7,10.91] (10.91,11.12] (11.12,11.33] (11.33,11.54] (11.54,11.75] \n",
       "            3             0             4             6            25 \n",
       "(11.75,11.96] (11.96,12.17] (12.17,12.38] (12.38,12.59]  (12.59,12.8] \n",
       "           17            19            12            10             4 "
      ]
     },
     "metadata": {},
     "output_type": "display_data"
    },
    {
     "data": {
      "text/plain": [
       "cut_s_3\n",
       "(10.2,10.45] (10.45,10.7] (10.7,10.95] (10.95,11.2] (11.2,11.45] (11.45,11.7] \n",
       "           1            6            9           28           20           18 \n",
       "(11.7,11.95] (11.95,12.2] (12.2,12.45] (12.45,12.7] \n",
       "          10            4            3            1 "
      ]
     },
     "metadata": {},
     "output_type": "display_data"
    },
    {
     "data": {
      "text/plain": [
       "cut_s_3\n",
       "(10.2,10.45] (10.45,10.7] (10.7,10.95] (10.95,11.2] (11.2,11.45] (11.45,11.7] \n",
       "           1            6            9           28           20           18 \n",
       "(11.7,11.95] (11.95,12.2] (12.2,12.45] (12.45,12.7] \n",
       "          10            4            3            1 "
      ]
     },
     "metadata": {},
     "output_type": "display_data"
    },
    {
     "data": {
      "text/plain": [
       "cut_s_5\n",
       " (9.398,9.58]   (9.58,9.76]   (9.76,9.94]  (9.94,10.12]  (10.12,10.3] \n",
       "            2             4            16            16            12 \n",
       " (10.3,10.48] (10.48,10.66] (10.66,10.84] (10.84,11.02]  (11.02,11.2] \n",
       "            8            16            13             8             5 "
      ]
     },
     "metadata": {},
     "output_type": "display_data"
    },
    {
     "data": {
      "text/plain": [
       "cut_a_1\n",
       " (6.895,7.36]   (7.36,7.82]   (7.82,8.28]   (8.28,8.74]    (8.74,9.2] \n",
       "            1             3             6            12            22 \n",
       "   (9.2,9.66]  (9.66,10.12] (10.12,10.58] (10.58,11.04]  (11.04,11.5] \n",
       "           17            20             9             7             3 "
      ]
     },
     "metadata": {},
     "output_type": "display_data"
    },
    {
     "data": {
      "text/plain": [
       "cut_a_2\n",
       " (7.495,8.01]   (8.01,8.52]   (8.52,9.03]   (9.03,9.54]  (9.54,10.05] \n",
       "            7             3            15            19            20 \n",
       "(10.05,10.56] (10.56,11.07] (11.07,11.58] (11.58,12.09] (12.09,12.61] \n",
       "           11            11             8             3             3 "
      ]
     },
     "metadata": {},
     "output_type": "display_data"
    },
    {
     "data": {
      "text/plain": [
       "cut_a_3\n",
       " (7.195,7.68]   (7.68,8.16]   (8.16,8.64]   (8.64,9.12]    (9.12,9.6] \n",
       "            1             0             1            14            15 \n",
       "  (9.6,10.08] (10.08,10.56] (10.56,11.04] (11.04,11.52]    (11.52,12] \n",
       "           20            17            13            14             5 "
      ]
     },
     "metadata": {},
     "output_type": "display_data"
    },
    {
     "data": {
      "text/plain": [
       "cut_a_4\n",
       " (6.994,7.64]   (7.64,8.28]   (8.28,8.92]   (8.92,9.56]   (9.56,10.2] \n",
       "            1             2             8            11            33 \n",
       " (10.2,10.84] (10.84,11.48] (11.48,12.12] (12.12,12.76] (12.76,13.41] \n",
       "           20            13             9             2             1 "
      ]
     },
     "metadata": {},
     "output_type": "display_data"
    },
    {
     "data": {
      "text/plain": [
       "cut_a_5\n",
       "(8.296,8.75]   (8.75,9.2]   (9.2,9.65]  (9.65,10.1] (10.1,10.55]   (10.55,11] \n",
       "           5            6           15           19           15           16 \n",
       "  (11,11.45] (11.45,11.9] (11.9,12.35] (12.35,12.8] \n",
       "           8           10            3            3 "
      ]
     },
     "metadata": {},
     "output_type": "display_data"
    }
   ],
   "source": [
    "cut_s_1 <- cut(seol_winter1$brix, breaks=10, dig.lab = 4)\n",
    "table(cut_s_1)\n",
    "cut_s_2 <- cut(seol_winter2$brix, breaks=10, dig.lab = 4)\n",
    "table(cut_s_2)\n",
    "cut_s_3 <- cut(seol_winter3$brix, breaks=10, dig.lab = 4)\n",
    "table(cut_s_3)\n",
    "cut_s_4 <- cut(seol_spring1$brix, breaks=10, dig.lab = 4)\n",
    "table(cut_s_3)\n",
    "cut_s_5 <- cut(seol_spring2$brix, breaks=10, dig.lab = 4)\n",
    "table(cut_s_5)\n",
    "\n",
    "cut_a_1 <- cut(achi_winter1$brix, breaks=10, dig.lab = 4)\n",
    "table(cut_a_1)\n",
    "cut_a_2 <- cut(achi_winter2$brix, breaks=10, dig.lab = 4)\n",
    "table(cut_a_2)\n",
    "cut_a_3 <- cut(achi_winter3$brix, breaks=10, dig.lab = 4)\n",
    "table(cut_a_3)\n",
    "cut_a_4 <- cut(achi_spring1$brix, breaks=10, dig.lab = 4)\n",
    "table(cut_a_4)\n",
    "cut_a_5 <- cut(achi_spring2$brix, breaks=10, dig.lab = 4)\n",
    "table(cut_a_5)"
   ]
  },
  {
   "cell_type": "markdown",
   "metadata": {},
   "source": [
    "## 3. 데이터 요약\n",
    "### 평균, 분산, 표준편차"
   ]
  },
  {
   "cell_type": "markdown",
   "metadata": {},
   "source": [
    "#### 평균 구하기"
   ]
  },
  {
   "cell_type": "code",
   "execution_count": 15,
   "metadata": {},
   "outputs": [
    {
     "data": {
      "text/html": [
       "12.378"
      ],
      "text/latex": [
       "12.378"
      ],
      "text/markdown": [
       "12.378"
      ],
      "text/plain": [
       "[1] 12.378"
      ]
     },
     "metadata": {},
     "output_type": "display_data"
    },
    {
     "data": {
      "text/html": [
       "11.893"
      ],
      "text/latex": [
       "11.893"
      ],
      "text/markdown": [
       "11.893"
      ],
      "text/plain": [
       "[1] 11.893"
      ]
     },
     "metadata": {},
     "output_type": "display_data"
    },
    {
     "data": {
      "text/html": [
       "11.345"
      ],
      "text/latex": [
       "11.345"
      ],
      "text/markdown": [
       "11.345"
      ],
      "text/plain": [
       "[1] 11.345"
      ]
     },
     "metadata": {},
     "output_type": "display_data"
    },
    {
     "data": {
      "text/html": [
       "10.758"
      ],
      "text/latex": [
       "10.758"
      ],
      "text/markdown": [
       "10.758"
      ],
      "text/plain": [
       "[1] 10.758"
      ]
     },
     "metadata": {},
     "output_type": "display_data"
    },
    {
     "data": {
      "text/html": [
       "10.34"
      ],
      "text/latex": [
       "10.34"
      ],
      "text/markdown": [
       "10.34"
      ],
      "text/plain": [
       "[1] 10.34"
      ]
     },
     "metadata": {},
     "output_type": "display_data"
    },
    {
     "data": {
      "text/html": [
       "9.402"
      ],
      "text/latex": [
       "9.402"
      ],
      "text/markdown": [
       "9.402"
      ],
      "text/plain": [
       "[1] 9.402"
      ]
     },
     "metadata": {},
     "output_type": "display_data"
    },
    {
     "data": {
      "text/html": [
       "9.788"
      ],
      "text/latex": [
       "9.788"
      ],
      "text/markdown": [
       "9.788"
      ],
      "text/plain": [
       "[1] 9.788"
      ]
     },
     "metadata": {},
     "output_type": "display_data"
    },
    {
     "data": {
      "text/html": [
       "10.112"
      ],
      "text/latex": [
       "10.112"
      ],
      "text/markdown": [
       "10.112"
      ],
      "text/plain": [
       "[1] 10.112"
      ]
     },
     "metadata": {},
     "output_type": "display_data"
    },
    {
     "data": {
      "text/html": [
       "10.252"
      ],
      "text/latex": [
       "10.252"
      ],
      "text/markdown": [
       "10.252"
      ],
      "text/plain": [
       "[1] 10.252"
      ]
     },
     "metadata": {},
     "output_type": "display_data"
    },
    {
     "data": {
      "text/html": [
       "10.34"
      ],
      "text/latex": [
       "10.34"
      ],
      "text/markdown": [
       "10.34"
      ],
      "text/plain": [
       "[1] 10.34"
      ]
     },
     "metadata": {},
     "output_type": "display_data"
    }
   ],
   "source": [
    "mean(seol_winter1$brix)\n",
    "mean(seol_winter2$brix)\n",
    "mean(seol_winter3$brix)\n",
    "mean(seol_spring1$brix)\n",
    "mean(seol_spring2$brix)\n",
    "\n",
    "mean(achi_winter1$brix)\n",
    "mean(achi_winter2$brix)\n",
    "mean(achi_winter3$brix)\n",
    "mean(achi_spring1$brix)\n",
    "mean(achi_spring2$brix)"
   ]
  },
  {
   "cell_type": "markdown",
   "metadata": {},
   "source": [
    "#### 분산 구하기"
   ]
  },
  {
   "cell_type": "code",
   "execution_count": 16,
   "metadata": {},
   "outputs": [
    {
     "data": {
      "text/html": [
       "0.164157575757576"
      ],
      "text/latex": [
       "0.164157575757576"
      ],
      "text/markdown": [
       "0.164157575757576"
      ],
      "text/plain": [
       "[1] 0.1641576"
      ]
     },
     "metadata": {},
     "output_type": "display_data"
    },
    {
     "data": {
      "text/html": [
       "0.162071717171717"
      ],
      "text/latex": [
       "0.162071717171717"
      ],
      "text/markdown": [
       "0.162071717171717"
      ],
      "text/plain": [
       "[1] 0.1620717"
      ]
     },
     "metadata": {},
     "output_type": "display_data"
    },
    {
     "data": {
      "text/html": [
       "0.19219696969697"
      ],
      "text/latex": [
       "0.19219696969697"
      ],
      "text/markdown": [
       "0.19219696969697"
      ],
      "text/plain": [
       "[1] 0.192197"
      ]
     },
     "metadata": {},
     "output_type": "display_data"
    },
    {
     "data": {
      "text/html": [
       "0.172965656565657"
      ],
      "text/latex": [
       "0.172965656565657"
      ],
      "text/markdown": [
       "0.172965656565657"
      ],
      "text/plain": [
       "[1] 0.1729657"
      ]
     },
     "metadata": {},
     "output_type": "display_data"
    },
    {
     "data": {
      "text/html": [
       "0.181010101010101"
      ],
      "text/latex": [
       "0.181010101010101"
      ],
      "text/markdown": [
       "0.181010101010101"
      ],
      "text/plain": [
       "[1] 0.1810101"
      ]
     },
     "metadata": {},
     "output_type": "display_data"
    },
    {
     "data": {
      "text/html": [
       "0.802824242424242"
      ],
      "text/latex": [
       "0.802824242424242"
      ],
      "text/markdown": [
       "0.802824242424242"
      ],
      "text/plain": [
       "[1] 0.8028242"
      ]
     },
     "metadata": {},
     "output_type": "display_data"
    },
    {
     "data": {
      "text/html": [
       "1.20025858585859"
      ],
      "text/latex": [
       "1.20025858585859"
      ],
      "text/markdown": [
       "1.20025858585859"
      ],
      "text/plain": [
       "[1] 1.200259"
      ]
     },
     "metadata": {},
     "output_type": "display_data"
    },
    {
     "data": {
      "text/html": [
       "0.839046464646465"
      ],
      "text/latex": [
       "0.839046464646465"
      ],
      "text/markdown": [
       "0.839046464646465"
      ],
      "text/plain": [
       "[1] 0.8390465"
      ]
     },
     "metadata": {},
     "output_type": "display_data"
    },
    {
     "data": {
      "text/html": [
       "1.17848080808081"
      ],
      "text/latex": [
       "1.17848080808081"
      ],
      "text/markdown": [
       "1.17848080808081"
      ],
      "text/plain": [
       "[1] 1.178481"
      ]
     },
     "metadata": {},
     "output_type": "display_data"
    },
    {
     "data": {
      "text/html": [
       "0.989292929292929"
      ],
      "text/latex": [
       "0.989292929292929"
      ],
      "text/markdown": [
       "0.989292929292929"
      ],
      "text/plain": [
       "[1] 0.9892929"
      ]
     },
     "metadata": {},
     "output_type": "display_data"
    }
   ],
   "source": [
    "var(seol_winter1$brix)\n",
    "var(seol_winter2$brix)\n",
    "var(seol_winter3$brix)\n",
    "var(seol_spring1$brix)\n",
    "var(seol_spring2$brix)\n",
    "\n",
    "var(achi_winter1$brix)\n",
    "var(achi_winter2$brix)\n",
    "var(achi_winter3$brix)\n",
    "var(achi_spring1$brix)\n",
    "var(achi_spring2$brix)"
   ]
  },
  {
   "cell_type": "markdown",
   "metadata": {},
   "source": [
    "#### 표준편차 구하기"
   ]
  },
  {
   "cell_type": "code",
   "execution_count": 17,
   "metadata": {
    "scrolled": false
   },
   "outputs": [
    {
     "data": {
      "text/html": [
       "0.405163640715175"
      ],
      "text/latex": [
       "0.405163640715175"
      ],
      "text/markdown": [
       "0.405163640715175"
      ],
      "text/plain": [
       "[1] 0.4051636"
      ]
     },
     "metadata": {},
     "output_type": "display_data"
    },
    {
     "data": {
      "text/html": [
       "0.402581317464829"
      ],
      "text/latex": [
       "0.402581317464829"
      ],
      "text/markdown": [
       "0.402581317464829"
      ],
      "text/plain": [
       "[1] 0.4025813"
      ]
     },
     "metadata": {},
     "output_type": "display_data"
    },
    {
     "data": {
      "text/html": [
       "0.438402748277163"
      ],
      "text/latex": [
       "0.438402748277163"
      ],
      "text/markdown": [
       "0.438402748277163"
      ],
      "text/plain": [
       "[1] 0.4384027"
      ]
     },
     "metadata": {},
     "output_type": "display_data"
    },
    {
     "data": {
      "text/html": [
       "0.415891399965973"
      ],
      "text/latex": [
       "0.415891399965973"
      ],
      "text/markdown": [
       "0.415891399965973"
      ],
      "text/plain": [
       "[1] 0.4158914"
      ]
     },
     "metadata": {},
     "output_type": "display_data"
    },
    {
     "data": {
      "text/html": [
       "0.425452818782648"
      ],
      "text/latex": [
       "0.425452818782648"
      ],
      "text/markdown": [
       "0.425452818782648"
      ],
      "text/plain": [
       "[1] 0.4254528"
      ]
     },
     "metadata": {},
     "output_type": "display_data"
    },
    {
     "data": {
      "text/html": [
       "0.896004599555294"
      ],
      "text/latex": [
       "0.896004599555294"
      ],
      "text/markdown": [
       "0.896004599555294"
      ],
      "text/plain": [
       "[1] 0.8960046"
      ]
     },
     "metadata": {},
     "output_type": "display_data"
    },
    {
     "data": {
      "text/html": [
       "1.09556313640912"
      ],
      "text/latex": [
       "1.09556313640912"
      ],
      "text/markdown": [
       "1.09556313640912"
      ],
      "text/plain": [
       "[1] 1.095563"
      ]
     },
     "metadata": {},
     "output_type": "display_data"
    },
    {
     "data": {
      "text/html": [
       "0.915994795097911"
      ],
      "text/latex": [
       "0.915994795097911"
      ],
      "text/markdown": [
       "0.915994795097911"
      ],
      "text/plain": [
       "[1] 0.9159948"
      ]
     },
     "metadata": {},
     "output_type": "display_data"
    },
    {
     "data": {
      "text/html": [
       "1.08557855914752"
      ],
      "text/latex": [
       "1.08557855914752"
      ],
      "text/markdown": [
       "1.08557855914752"
      ],
      "text/plain": [
       "[1] 1.085579"
      ]
     },
     "metadata": {},
     "output_type": "display_data"
    },
    {
     "data": {
      "text/html": [
       "0.994632057241737"
      ],
      "text/latex": [
       "0.994632057241737"
      ],
      "text/markdown": [
       "0.994632057241737"
      ],
      "text/plain": [
       "[1] 0.9946321"
      ]
     },
     "metadata": {},
     "output_type": "display_data"
    }
   ],
   "source": [
    "sd(seol_winter1$brix)\n",
    "sd(seol_winter2$brix)\n",
    "sd(seol_winter3$brix)\n",
    "sd(seol_spring1$brix)\n",
    "sd(seol_spring2$brix)\n",
    "\n",
    "sd(achi_winter1$brix)\n",
    "sd(achi_winter2$brix)\n",
    "sd(achi_winter3$brix)\n",
    "sd(achi_spring1$brix)\n",
    "sd(achi_spring2$brix)"
   ]
  },
  {
   "cell_type": "markdown",
   "metadata": {},
   "source": [
    "## 4. 그래프\n",
    "### 막대그래프"
   ]
  },
  {
   "cell_type": "markdown",
   "metadata": {},
   "source": [
    "#### 시각화를 위한 패키지 불러오기"
   ]
  },
  {
   "cell_type": "code",
   "execution_count": 18,
   "metadata": {},
   "outputs": [],
   "source": [
    "library(ggplot2)"
   ]
  },
  {
   "cell_type": "markdown",
   "metadata": {},
   "source": [
    "#### 설의 겨울철(12월 25일) 당도 도수분포도"
   ]
  },
  {
   "cell_type": "code",
   "execution_count": 19,
   "metadata": {},
   "outputs": [
    {
     "data": {
      "image/png": "[encoded data removed]",
      "text/plain": [
       "plot without title"
      ]
     },
     "metadata": {},
     "output_type": "display_data"
    }
   ],
   "source": [
    "ggplot(seol_winter1, aes(x=cut_s_1))+geom_bar(color=\"darkblue\", fill=\"lightblue\")+labs(x=\"설의 겨울철(12월 25일) 당도 도수분포도\")"
   ]
  },
  {
   "cell_type": "markdown",
   "metadata": {},
   "source": [
    "#### 아키의 겨울철(12월 25일) 당도 도수분포도"
   ]
  },
  {
   "cell_type": "code",
   "execution_count": 20,
   "metadata": {
    "scrolled": false
   },
   "outputs": [
    {
     "data": {
      "image/png": "[encoded data removed]",
      "text/plain": [
       "plot without title"
      ]
     },
     "metadata": {},
     "output_type": "display_data"
    }
   ],
   "source": [
    "ggplot(achi_winter1, aes(cut_a_1))+geom_bar(color=\"darkblue\", fill=\"lightblue\")+labs(x=\"아키의 겨울철(12월 25일) 당도 도수분포도\")"
   ]
  },
  {
   "cell_type": "markdown",
   "metadata": {},
   "source": [
    "#### 설의 겨울철(1월 25일) 당도 도수분포도"
   ]
  },
  {
   "cell_type": "code",
   "execution_count": 21,
   "metadata": {},
   "outputs": [
    {
     "data": {
      "image/png": "[encoded data removed]",
      "text/plain": [
       "plot without title"
      ]
     },
     "metadata": {},
     "output_type": "display_data"
    }
   ],
   "source": [
    "ggplot(seol_winter2, aes(cut_s_2))+geom_bar(color=\"darkblue\", fill=\"lightblue\")+labs(x=\"설의 겨울철(1월 25일) 당도 도수분포도\")"
   ]
  },
  {
   "cell_type": "markdown",
   "metadata": {},
   "source": [
    "#### 아키의 겨울철(1월 25일) 당도 도수분포도"
   ]
  },
  {
   "cell_type": "code",
   "execution_count": 22,
   "metadata": {
    "scrolled": false
   },
   "outputs": [
    {
     "data": {
      "image/png": "[encoded data removed]",
      "text/plain": [
       "plot without title"
      ]
     },
     "metadata": {},
     "output_type": "display_data"
    }
   ],
   "source": [
    "ggplot(achi_winter2, aes(cut_a_2))+geom_bar(color=\"darkblue\", fill=\"lightblue\")+labs(x=\"아키의 겨울철(1월 25일) 당도 도수분포도\")"
   ]
  },
  {
   "cell_type": "markdown",
   "metadata": {},
   "source": [
    "#### 설의 겨울철(2월 25일) 당도 도수분포도"
   ]
  },
  {
   "cell_type": "code",
   "execution_count": 23,
   "metadata": {},
   "outputs": [
    {
     "data": {
      "image/png": "[encoded data removed]",
      "text/plain": [
       "plot without title"
      ]
     },
     "metadata": {},
     "output_type": "display_data"
    }
   ],
   "source": [
    "ggplot(seol_winter3, aes(cut_s_3))+geom_bar(color=\"darkblue\", fill=\"lightblue\")+labs(x=\"설의 겨울철(2월 25일) 당도 도수분포도\")"
   ]
  },
  {
   "cell_type": "markdown",
   "metadata": {},
   "source": [
    "#### 아키의 겨울철(2월 25일) 당도 도수분포도"
   ]
  },
  {
   "cell_type": "code",
   "execution_count": 24,
   "metadata": {},
   "outputs": [
    {
     "data": {
      "image/png": "[encoded data removed]",
      "text/plain": [
       "plot without title"
      ]
     },
     "metadata": {},
     "output_type": "display_data"
    }
   ],
   "source": [
    "ggplot(achi_winter3, aes(cut_a_3))+geom_bar(color=\"darkblue\", fill=\"lightblue\")+labs(x=\"아키의 겨울철(2월 25일) 당도 도수분포도\")"
   ]
  },
  {
   "cell_type": "markdown",
   "metadata": {},
   "source": [
    "#### 설의 봄철(3월 25일) 당도 도수분포도"
   ]
  },
  {
   "cell_type": "code",
   "execution_count": 25,
   "metadata": {},
   "outputs": [
    {
     "data": {
      "image/png": "[encoded data removed]",
      "text/plain": [
       "plot without title"
      ]
     },
     "metadata": {},
     "output_type": "display_data"
    }
   ],
   "source": [
    "ggplot(seol_spring1, aes(cut_s_4))+geom_bar(color=\"darkblue\", fill=\"lightblue\")+labs(x=\"설의 봄철(3월 25일) 당도 도수분포도\")"
   ]
  },
  {
   "cell_type": "markdown",
   "metadata": {},
   "source": [
    "#### 아키의 봄철(3월 25일) 당도 도수분포도"
   ]
  },
  {
   "cell_type": "code",
   "execution_count": 26,
   "metadata": {},
   "outputs": [
    {
     "data": {
      "image/png": "[encoded data removed]",
      "text/plain": [
       "plot without title"
      ]
     },
     "metadata": {},
     "output_type": "display_data"
    }
   ],
   "source": [
    "ggplot(achi_spring1, aes(cut_a_4))+geom_bar(color=\"darkblue\", fill=\"lightblue\")+labs(x=\"아키의 봄철(3월 25일) 당도 도수분포도\")"
   ]
  },
  {
   "cell_type": "markdown",
   "metadata": {},
   "source": [
    "#### 설의 봄철(4월 25일) 당도 도수분포도"
   ]
  },
  {
   "cell_type": "code",
   "execution_count": 27,
   "metadata": {},
   "outputs": [
    {
     "data": {
      "image/png": "[encoded data removed]",
      "text/plain": [
       "plot without title"
      ]
     },
     "metadata": {},
     "output_type": "display_data"
    }
   ],
   "source": [
    "ggplot(seol_spring2, aes(cut_s_5))+geom_bar(color=\"darkblue\", fill=\"lightblue\")+labs(x=\"설의 봄철(4월 25일) 당도 도수분포도\")"
   ]
  },
  {
   "cell_type": "markdown",
   "metadata": {},
   "source": [
    "#### 아키의 봄철(4월 25일) 당도 도수분포도"
   ]
  },
  {
   "cell_type": "code",
   "execution_count": 28,
   "metadata": {
    "scrolled": false
   },
   "outputs": [
    {
     "data": {
      "image/png": "[encoded data removed]",
      "text/plain": [
       "plot without title"
      ]
     },
     "metadata": {},
     "output_type": "display_data"
    }
   ],
   "source": [
    "ggplot(achi_spring2, aes(cut_a_5))+geom_bar(color=\"darkblue\", fill=\"lightblue\")+labs(x=\"아키의 봄철(4월 25일) 당도 도수분포도\")"
   ]
  },
  {
   "cell_type": "markdown",
   "metadata": {},
   "source": [
    "### 구간 값의 범위 조절하기"
   ]
  },
  {
   "cell_type": "markdown",
   "metadata": {},
   "source": [
    "#### 설의 겨울철(12월 25일) 당도 도수분포도"
   ]
  },
  {
   "cell_type": "code",
   "execution_count": 29,
   "metadata": {},
   "outputs": [
    {
     "data": {
      "image/png": "[encoded data removed]",
      "text/plain": [
       "plot without title"
      ]
     },
     "metadata": {},
     "output_type": "display_data"
    }
   ],
   "source": [
    "ggplot(seol_winter1, aes(x=seol_winter1$brix))+geom_bar(color=\"darkblue\", fill=\"lightblue\")+labs(x=\"설의 겨울철(12월 25일) 당도 도수분포도\")+xlim(c(5.00, 15.00))+ylim(c(0, 15.0))"
   ]
  },
  {
   "cell_type": "markdown",
   "metadata": {},
   "source": [
    "#### 아키의 겨울철(12월 25일) 당도 도수분포도"
   ]
  },
  {
   "cell_type": "code",
   "execution_count": 30,
   "metadata": {},
   "outputs": [
    {
     "data": {
      "image/png": "[encoded data removed]",
      "text/plain": [
       "plot without title"
      ]
     },
     "metadata": {},
     "output_type": "display_data"
    }
   ],
   "source": [
    "ggplot(achi_winter1, aes(x=achi_winter1$brix))+geom_bar(color=\"darkblue\", fill=\"lightblue\")+labs(x=\"아키의 겨울철(12월 25일) 당도 도수분포도\")+xlim(c(5.00, 15.00))+ylim(c(0, 15.0))"
   ]
  },
  {
   "cell_type": "markdown",
   "metadata": {},
   "source": [
    "#### 설의 겨울철(1월 25일) 당도 도수분포도"
   ]
  },
  {
   "cell_type": "code",
   "execution_count": 31,
   "metadata": {},
   "outputs": [
    {
     "data": {
      "image/png": "[encoded data removed]",
      "text/plain": [
       "plot without title"
      ]
     },
     "metadata": {},
     "output_type": "display_data"
    }
   ],
   "source": [
    "ggplot(seol_winter2, aes(x=seol_winter2$brix))+geom_bar(color=\"darkblue\", fill=\"lightblue\")+labs(x=\"설의 겨울철(1월 25일) 당도 도수분포도\")+xlim(c(5.00, 15.00))+ylim(c(0, 15.0))"
   ]
  },
  {
   "cell_type": "markdown",
   "metadata": {},
   "source": [
    "#### 아키의 겨울철(1월 25일) 당도 도수분포도"
   ]
  },
  {
   "cell_type": "code",
   "execution_count": 32,
   "metadata": {},
   "outputs": [
    {
     "data": {
      "image/png": "[encoded data removed]",
      "text/plain": [
       "plot without title"
      ]
     },
     "metadata": {},
     "output_type": "display_data"
    }
   ],
   "source": [
    "ggplot(achi_winter2, aes(x=achi_winter2$brix))+geom_bar(color=\"darkblue\", fill=\"lightblue\")+labs(x=\"아키의 겨울철(1월 25일) 당도 도수분포도\")+xlim(c(5.00, 15.00))+ylim(c(0, 15.0))"
   ]
  },
  {
   "cell_type": "markdown",
   "metadata": {},
   "source": [
    "#### 설의 겨울철(2월 25일) 당도 도수분포도"
   ]
  },
  {
   "cell_type": "code",
   "execution_count": 33,
   "metadata": {},
   "outputs": [
    {
     "data": {
      "image/png": "[encoded data removed]",
      "text/plain": [
       "plot without title"
      ]
     },
     "metadata": {},
     "output_type": "display_data"
    }
   ],
   "source": [
    "ggplot(seol_winter3, aes(x=seol_winter3$brix))+geom_bar(color=\"darkblue\", fill=\"lightblue\")+labs(x=\"설의 겨울철(2월 25일) 당도 도수분포도\")+xlim(c(5.00, 15.00))+ylim(c(0, 15.0))"
   ]
  },
  {
   "cell_type": "markdown",
   "metadata": {},
   "source": [
    "#### 아키의 겨울철(2월 25일) 당도 도수분포도"
   ]
  },
  {
   "cell_type": "code",
   "execution_count": 34,
   "metadata": {},
   "outputs": [
    {
     "data": {
      "image/png": "[encoded data removed]",
      "text/plain": [
       "plot without title"
      ]
     },
     "metadata": {},
     "output_type": "display_data"
    }
   ],
   "source": [
    "ggplot(achi_winter3, aes(x=achi_winter3$brix))+geom_bar(color=\"darkblue\", fill=\"lightblue\")+labs(x=\"아키의 겨울철(2월 25일) 당도 도수분포도\")+xlim(c(5.00, 15.00))+ylim(c(0, 15.0))"
   ]
  },
  {
   "cell_type": "markdown",
   "metadata": {},
   "source": [
    "#### 설의 봄철(3월 25일) 당도 도수분포도"
   ]
  },
  {
   "cell_type": "code",
   "execution_count": 35,
   "metadata": {},
   "outputs": [
    {
     "data": {
      "image/png": "[encoded data removed]",
      "text/plain": [
       "plot without title"
      ]
     },
     "metadata": {},
     "output_type": "display_data"
    }
   ],
   "source": [
    "ggplot(seol_spring1, aes(x=seol_spring1$brix))+geom_bar(color=\"darkblue\", fill=\"lightblue\")+labs(x=\"설의 봄철(3월 25일) 당도 도수분포도\")+xlim(c(5.00, 15.00))+ylim(c(0, 15.0))"
   ]
  },
  {
   "cell_type": "markdown",
   "metadata": {},
   "source": [
    "#### 아키의 봄철(3월 25일) 당도 도수분포도"
   ]
  },
  {
   "cell_type": "code",
   "execution_count": 36,
   "metadata": {},
   "outputs": [
    {
     "data": {
      "image/png": "[encoded data removed]",
      "text/plain": [
       "plot without title"
      ]
     },
     "metadata": {},
     "output_type": "display_data"
    }
   ],
   "source": [
    "ggplot(achi_spring1, aes(x=achi_spring1$brix))+geom_bar(color=\"darkblue\", fill=\"lightblue\")+labs(x=\"아키의 봄철(3월 25일) 당도 도수분포도\")+xlim(c(5.00, 15.00))+ylim(c(0, 15.0))"
   ]
  },
  {
   "cell_type": "markdown",
   "metadata": {},
   "source": [
    "#### 설의 봄철(4월 25일) 당도 도수분포도"
   ]
  },
  {
   "cell_type": "code",
   "execution_count": 37,
   "metadata": {},
   "outputs": [
    {
     "data": {
      "image/png": "[encoded data removed]",
      "text/plain": [
       "plot without title"
      ]
     },
     "metadata": {},
     "output_type": "display_data"
    }
   ],
   "source": [
    "ggplot(seol_spring2, aes(x=seol_spring2$brix))+geom_bar(color=\"darkblue\", fill=\"lightblue\")+labs(x=\"설의 봄철(4월 25일) 당도 도수분포도\")+xlim(c(5.00, 15.00))+ylim(c(0, 15.0))"
   ]
  },
  {
   "cell_type": "markdown",
   "metadata": {},
   "source": [
    "#### 아키의 봄철(4월 25일) 당도 도수분포도"
   ]
  },
  {
   "cell_type": "code",
   "execution_count": 38,
   "metadata": {},
   "outputs": [
    {
     "data": {
      "image/png": "[encoded data removed]",
      "text/plain": [
       "plot without title"
      ]
     },
     "metadata": {},
     "output_type": "display_data"
    }
   ],
   "source": [
    "ggplot(achi_spring2, aes(x=achi_spring2$brix))+geom_bar(color=\"darkblue\", fill=\"lightblue\")+labs(x=\"아키의 봄철(4월 25일) 당도 도수분포도\")+xlim(c(5.00, 15.00))+ylim(c(0, 15.0))"
   ]
  }
 ],
 "metadata": {
  "kernelspec": {
   "display_name": "R",
   "language": "R",
   "name": "ir"
  },
  "language_info": {
   "codemirror_mode": "r",
   "file_extension": ".r",
   "mimetype": "text/x-r-source",
   "name": "R",
   "pygments_lexer": "r",
   "version": "3.6.0"
  }
 },
 "nbformat": 4,
 "nbformat_minor": 2
}
